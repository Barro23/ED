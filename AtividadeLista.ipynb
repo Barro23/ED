{
  "nbformat": 4,
  "nbformat_minor": 0,
  "metadata": {
    "colab": {
      "provenance": [],
      "authorship_tag": "ABX9TyOhablebtqKP2p1bclKDz4Z",
      "include_colab_link": true
    },
    "kernelspec": {
      "name": "python3",
      "display_name": "Python 3"
    },
    "language_info": {
      "name": "python"
    }
  },
  "cells": [
    {
      "cell_type": "markdown",
      "metadata": {
        "id": "view-in-github",
        "colab_type": "text"
      },
      "source": [
        "<a href=\"https://colab.research.google.com/github/Barro23/Estrutura-de-Dados/blob/main/AtividadeLista.ipynb\" target=\"_parent\"><img src=\"https://colab.research.google.com/assets/colab-badge.svg\" alt=\"Open In Colab\"/></a>"
      ]
    },
    {
      "cell_type": "code",
      "metadata": {
        "colab": {
          "base_uri": "https://localhost:8080/"
        },
        "id": "S_mB_1ylK3RC",
        "outputId": "75fc538b-b6a6-4c59-f8c2-a8d5f3feab95"
      },
      "source": [
        "print(\"Uma empresa coleta dados de possiveis clientes para a analize para a aprovação da conta\")\n",
        "print(\"Após a coleta de dados, a empresa analiza os dados de forma que os ultimos dados colocados sejam os primeiros a ser ananlizados \")\n",
        "\n",
        "pilha_de_dados = []\n",
        "\n",
        "\n",
        "print(\"digite seu ocupação\" )\n",
        "ocupação = str(input())\n",
        "print(\"digite sua nacionalidade \" )\n",
        "nacionalidade = str(input())\n",
        "print(\"digite sua idade\" )\n",
        "idade = int(input())\n",
        "print(\"digite seu nome\" )\n",
        "nome = str(input())\n",
        "print(\"digite seu CPF\" )\n",
        "CPF = (input())\n",
        "\n",
        "print(pilha_de_dados)\n",
        "\n",
        "pilha_de_dados.append( ocupação )\n",
        "print(pilha_de_dados)\n",
        "\n",
        "pilha_de_dados.append( nacionalidade)\n",
        "print(pilha_de_dados)\n",
        "\n",
        "pilha_de_dados.append( idade )\n",
        "print(pilha_de_dados)\n",
        "\n",
        "pilha_de_dados.append( nome )\n",
        "print(pilha_de_dados)\n",
        "\n",
        "pilha_de_dados.append( CPF )\n",
        "print(pilha_de_dados)\n",
        "\n",
        "pilha_de_dados.pop()\n",
        "print(pilha_de_dados)\n",
        "\n",
        "pilha_de_dados.pop()\n",
        "print(pilha_de_dados)\n",
        "\n",
        "pilha_de_dados.pop()\n",
        "print(pilha_de_dados)\n",
        "\n",
        "pilha_de_dados.pop()\n",
        "print(pilha_de_dados)\n",
        "\n",
        "pilha_de_dados.pop()\n",
        "print(pilha_de_dados)"
      ],
      "execution_count": null,
      "outputs": [
        {
          "output_type": "stream",
          "name": "stdout",
          "text": [
            "Uma empresa coleta dados de possiveis clientes para a analize para a aprovação da conta\n",
            "Após a coleta de dados, a empresa analiza os dados de forma que os ultimos dados colocados sejam os primeiros a ser ananlizados \n",
            "digite seu ocupação\n",
            "garçon\n",
            "digite sua nacionalidade \n",
            "brasileiro\n",
            "digite sua idade\n",
            "23\n",
            "digite seu nome\n",
            "fulano\n",
            "digite seu CPF\n",
            "234.566.789-35\n",
            "[]\n",
            "['garçon']\n",
            "['garçon', 'brasileiro']\n",
            "['garçon', 'brasileiro', 23]\n",
            "['garçon', 'brasileiro', 23, 'fulano']\n",
            "['garçon', 'brasileiro', 23, 'fulano', '234.566.789-35']\n",
            "['garçon', 'brasileiro', 23, 'fulano']\n",
            "['garçon', 'brasileiro', 23]\n",
            "['garçon', 'brasileiro']\n",
            "['garçon']\n",
            "[]\n"
          ]
        }
      ]
    }
  ]
}