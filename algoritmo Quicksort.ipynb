{
  "nbformat": 4,
  "nbformat_minor": 0,
  "metadata": {
    "colab": {
      "provenance": [],
      "authorship_tag": "ABX9TyN+W/vNJpvpcm/UcOLbLL9o",
      "include_colab_link": true
    },
    "kernelspec": {
      "name": "python3",
      "display_name": "Python 3"
    },
    "language_info": {
      "name": "python"
    }
  },
  "cells": [
    {
      "cell_type": "markdown",
      "metadata": {
        "id": "view-in-github",
        "colab_type": "text"
      },
      "source": [
        "<a href=\"https://colab.research.google.com/github/Barro23/Estrutura-de-Dados/blob/main/algoritmo%20Quicksort.ipynb\" target=\"_parent\"><img src=\"https://colab.research.google.com/assets/colab-badge.svg\" alt=\"Open In Colab\"/></a>"
      ]
    },
    {
      "cell_type": "markdown",
      "metadata": {
        "id": "JdiK2usltWFb"
      },
      "source": [
        "# **Atualizar o algoritmo Quicksort para utilizar um pivô aleatório ou um valor central.**"
      ]
    },
    {
      "cell_type": "code",
      "metadata": {
        "colab": {
          "base_uri": "https://localhost:8080/"
        },
        "id": "2YaJDBcsqKf1",
        "outputId": "33387c41-ddae-4eb5-958b-26ebafd33ff4"
      },
      "source": [
        "import random\n",
        "def quicksort(lista):\n",
        "    quicksort_aux(lista, 0, len(lista)-1)\n",
        "\n",
        "def quicksort_aux(lista, menor, maior):\n",
        "    if menor < maior:\n",
        "        p = particao(lista, menor, maior)\n",
        "        quicksort_aux(lista, menor, p)\n",
        "        quicksort_aux(lista, p + 1, maior)\n",
        "\n",
        "def particao(lista, menor, maior):\n",
        "    pivot = lista[random.randint(0, len(lista) - 1)]\n",
        "    i, j = menor-1, maior+1\n",
        "    while True:\n",
        "        i += 1\n",
        "        j -= 1\n",
        "        while(lista[i] < pivot): i+= 1\n",
        "        while(lista[j] > pivot ): j-= 1\n",
        "        if i >= j: \n",
        "            return j\n",
        "        lista[i], lista[j] = lista[j], lista[i]\n",
        "\n",
        "lista = [3, 4, 6, 7, 5, 1, 10, 9, 2, 8]\n",
        "print(f\"Vetor original: {lista}\")\n",
        "quicksort(lista)\n",
        "print(f\"Vetor ordenado: {lista}\")"
      ],
      "execution_count": null,
      "outputs": [
        {
          "output_type": "stream",
          "name": "stdout",
          "text": [
            "Vetor original: [3, 4, 6, 7, 5, 1, 10, 9, 2, 8]\n",
            "Vetor ordenado: [1, 2, 3, 4, 5, 6, 7, 8, 9, 10]\n"
          ]
        }
      ]
    }
  ]
}